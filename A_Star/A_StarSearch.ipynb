{
 "cells": [
  {
   "cell_type": "code",
   "execution_count": 1,
   "id": "2ccb2211",
   "metadata": {},
   "outputs": [],
   "source": [
    "# import library heapq\n",
    "import heapq\n",
    "# import library time\n",
    "import time"
   ]
  },
  {
   "cell_type": "code",
   "execution_count": 2,
   "id": "5c59fffe",
   "metadata": {},
   "outputs": [],
   "source": [
    "# mendeklarasikan kelas \"pQueue\" (priority queue)\n",
    "# kelas ini menyipan kota-kota yang akan dihitung jaraknya\n",
    "class pQueue:\n",
    "    def __init__(self):\n",
    "        self.Kota = []\n",
    "\n",
    "    def push(self, kota, cost):\n",
    "        heapq.heappush(self.Kota, (cost, kota))\n",
    "\n",
    "    def pop(self):\n",
    "        return heapq.heappop(self.Kota)[1]\n",
    "\n",
    "    def isEmpty(self):\n",
    "        if (self.Kota == []):\n",
    "            return True\n",
    "        else:\n",
    "            return False\n",
    "\n",
    "    def check(self):\n",
    "        print(self.Kota)"
   ]
  },
  {
   "cell_type": "code",
   "execution_count": 3,
   "id": "6fe8bc46",
   "metadata": {},
   "outputs": [],
   "source": [
    "# mendeklarasikan kelas \"node\" \n",
    "class node:\n",
    "    def __init__(self, kota, jarak):\n",
    "        self.kota = str(kota)\n",
    "        self.jarak = str(jarak)"
   ]
  },
  {
   "cell_type": "code",
   "execution_count": 4,
   "id": "9e33604e",
   "metadata": {},
   "outputs": [],
   "source": [
    "# mendeklarasikan variabel dictionary \"actual_cost\" untuk menyimpan actual cost antara setiap kota di peta Jawa Timur\n",
    "actual_cost = {}\n",
    "\n",
    "# mendeklarasikan fungsi \"actualCost\" \n",
    "def actualCost():\n",
    "    # membaca file actual_cost.txt yang berisi actual cost antar kota di Peta Jawa Timur\n",
    "    file = open(\"actual_cost.txt\", 'r')\n",
    "    for string in file:\n",
    "        line = string.split(',')\n",
    "        kota1 = line[0]\n",
    "        kota2 = line[1]\n",
    "        jarak = int(line[2])\n",
    "        # menyimpan informasi yang didapatkan kedalam dictionary \"actual_cost\"\n",
    "        actual_cost.setdefault(kota1, []).append(node(kota2, jarak))\n",
    "        actual_cost.setdefault(kota2, []).append(node(kota1, jarak))"
   ]
  },
  {
   "cell_type": "code",
   "execution_count": 5,
   "id": "3ffad8c8",
   "metadata": {},
   "outputs": [],
   "source": [
    "# mendeklarasikan fungsi \"nilaiHeuristik\"\n",
    "def nilaiHeuristik():\n",
    "    # mendeklarasikan variabel dictionary \"heur\" untuk menyimpan jarak (nilai heuristik) suatu kota ke Surabaya di peta Jawa Timur\n",
    "    heur = {}\n",
    "    # membaca file nilai_heuristik.txt yang berisi jarak (nilai heuristik) suatu kota ke Surabaya di peta Jawa Timur\n",
    "    with open(\"nilai_heuristik.txt\", 'r') as file:\n",
    "        for line in file:\n",
    "            line = line.strip().split(\",\")\n",
    "            node = line[0].strip()\n",
    "            sld = int(line[1].strip())\n",
    "            heur[node] = sld\n",
    "    return heur\n",
    "\n",
    "# mendeklarasikan fungsi \"heuristik\" untuk menghitung nilai heuristik dari suatu kota\n",
    "def heuristik(node, nilai):\n",
    "    return nilai[node]"
   ]
  },
  {
   "cell_type": "code",
   "execution_count": 6,
   "id": "8375f2e3",
   "metadata": {},
   "outputs": [],
   "source": [
    "# mendeklarasikan fungsi \"A_Star\" untuk menjalankan algoritma A* search pada peta Jawa Timur \n",
    "def A_Star(initial, goal):\n",
    "    path = {}\n",
    "    jarak = {}\n",
    "    q = pQueue()\n",
    "    h = nilaiHeuristik()\n",
    "\n",
    "    q.push(initial, 0)\n",
    "    jarak[initial] = 0\n",
    "    path[initial] = None\n",
    "    expandedList = []\n",
    "\n",
    "    while (q.isEmpty() == False):\n",
    "        current = q.pop()\n",
    "        expandedList.append(current)\n",
    "\n",
    "        if (current == goal):\n",
    "            break\n",
    "\n",
    "        for new in actual_cost[current]:\n",
    "            g_cost = jarak[current] + int(new.jarak)\n",
    "\n",
    "            # print(new.kota, new.jarak, \"now : \" + str(jarak[current]), g_cost)\n",
    "\n",
    "            if (new.kota not in jarak or g_cost < jarak[new.kota]):\n",
    "                jarak[new.kota] = g_cost\n",
    "                f_cost = g_cost + heuristik(new.kota, h)\n",
    "                q.push(new.kota, f_cost)\n",
    "                path[new.kota] = current\n",
    "\n",
    "    printoutput(initial, goal, path, jarak, expandedList)"
   ]
  },
  {
   "cell_type": "code",
   "execution_count": 7,
   "id": "f177f9ad",
   "metadata": {},
   "outputs": [],
   "source": [
    "# mendeklarasikan fungsi \"printoutput\" untuk mencetak hasil pencarian rute terpendek dari fungsi \"A_Star\"\n",
    "def printoutput(initial, goal, path, jarak, expandedlist):\n",
    "    finalpath = []\n",
    "    i = goal\n",
    "\n",
    "    while (path.get(i) != None):\n",
    "        finalpath.append(i)\n",
    "        i = path[i]\n",
    "    finalpath.append(initial)\n",
    "    finalpath.reverse()\n",
    "    print(\"\\t\\t\")\n",
    "    print(\"A* SEARCH\")\n",
    "    print(\"Asal - Tujuan       : Magetan -> Surabaya\")\n",
    "    print(\"Kota yang dilewati  : \" + str(finalpath))\n",
    "    print(\"Jarak               : \" + str(jarak[goal]))\n",
    "    print(\"\\t\\t\")"
   ]
  },
  {
   "cell_type": "code",
   "execution_count": 8,
   "id": "72d2bb79",
   "metadata": {},
   "outputs": [
    {
     "name": "stdout",
     "output_type": "stream",
     "text": [
      "\t\t\n",
      "A* SEARCH\n",
      "Asal - Tujuan       : Magetan -> Surabaya\n",
      "Kota yang dilewati  : ['Magetan', 'Ngawi', 'Bojonegoro', 'Lamongan', 'Gresik', 'Surabaya']\n",
      "Jarak               : 144\n",
      "\t\t\n",
      "Time:  0.0015609264373779297\n"
     ]
    }
   ],
   "source": [
    "# mendeklarasikan fungsi \"main\" untuk menjalakan program algoritam A* Search\n",
    "def main():\n",
    "    asal = \"Magetan\"\n",
    "    tujuan = \"Surabaya\"\n",
    "    # memanggil fungsi \"actualCost\"\n",
    "    actualCost()\n",
    "    startTime = time.time()\n",
    "    # memanggil fungsi A_Star\n",
    "    A_Star(asal, tujuan)\n",
    "    endTime = time.time()\n",
    "    print(\"Time: \", endTime - startTime)\n",
    "\n",
    "\n",
    "if __name__ == \"__main__\":\n",
    "    main()"
   ]
  },
  {
   "cell_type": "code",
   "execution_count": null,
   "id": "8c4615fc",
   "metadata": {},
   "outputs": [],
   "source": []
  }
 ],
 "metadata": {
  "kernelspec": {
   "display_name": "Python 3 (ipykernel)",
   "language": "python",
   "name": "python3"
  },
  "language_info": {
   "codemirror_mode": {
    "name": "ipython",
    "version": 3
   },
   "file_extension": ".py",
   "mimetype": "text/x-python",
   "name": "python",
   "nbconvert_exporter": "python",
   "pygments_lexer": "ipython3",
   "version": "3.9.13"
  }
 },
 "nbformat": 4,
 "nbformat_minor": 5
}
